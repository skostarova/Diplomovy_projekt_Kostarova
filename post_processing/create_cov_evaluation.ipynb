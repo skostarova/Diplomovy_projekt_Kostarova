{
 "cells": [
  {
   "cell_type": "code",
   "execution_count": null,
   "id": "3c00679c",
   "metadata": {
    "tags": [],
    "pycharm": {
     "is_executing": true
    }
   },
   "outputs": [],
   "source": [
    "# import\n",
    "import numpy as np\n",
    "import pandas as pd\n",
    "import matplotlib.pyplot as plt\n",
    "\n",
    "from sklearn.metrics import confusion_matrix\n",
    "\n",
    "import datetime\n",
    "plt.rcParams[\"figure.figsize\"] = (20,10)"
   ]
  },
  {
   "cell_type": "code",
   "execution_count": null,
   "id": "5d993dae",
   "metadata": {
    "tags": []
   },
   "outputs": [],
   "source": [
    "# settings\n",
    "shift = 15\n",
    "window = 45\n",
    "model_type = \"autoreg15\" # for autoreg - autoreg{shift]; for multiNN - PC, AsyH, ap_index, BzGSE, all_parameters\n",
    "model_type2 = \"autoreg\" # for autoreg - autoreg; for multiNN - PC, AsyH, ap_index, BzGSE, all_parameters\n",
    "best_model = True # load best model (true) or model from epoch (false)\n",
    "epoch = \"03\"\n",
    "mae = \"0.0561\""
   ]
  },
  {
   "cell_type": "code",
   "execution_count": null,
   "id": "a828c589",
   "metadata": {
    "tags": []
   },
   "outputs": [],
   "source": [
    "# data loading\n",
    "size=1 # select subset (>1) or whole test_data (1)\n",
    "param_t = np.load(f\"../data/{model_type2}/shift-{shift}-windows-{window}/test_index_timestamp.npy\", allow_pickle = True).flatten()\n",
    "param_ytest = np.load(f\"../data/{model_type2}/shift-{shift}-windows-{window}/y_test.npy\", allow_pickle = True).flatten()\n",
    "param_bin = np.load(f\"../data/{model_type2}/shift-{shift}-windows-{window}/test_index_bin.npy\", allow_pickle = True).flatten()\n",
    "if best_model:\n",
    "    param_pred = np.load(f\"../prediction/y_pred-{model_type2}-shift-{shift}-windows-{window}.npy, allow_pickle = True\").flatten()\n",
    "else:\n",
    "    param_pred = np.load(f\"../prediction/{model_type2}/shift-{shift}-windows-{window}/y_pred_epoch-{epoch}-mae-{mae}.npy\", allow_pickle = True).flatten()\n",
    "\n",
    "# create dataframe\n",
    "param_df = pd.DataFrame(data={f\"{model_type}_test\": param_ytest[:int(len(param_ytest)/size)], f\"{model_type}_pred\": param_pred[:int(len(param_pred)/size)], f\"{model_type}_bin\":param_bin[:int(len(param_ytest)/size)], f\"{model_type}_time\":param_t[:int(len(param_ytest)/size)]})\n",
    "param_df[f\"{model_type}_bin\"] = param_df[f\"{model_type}_bin\"].str[:5]\n",
    "\n",
    "param_df[\"index_time_bin\"]=param_df[f\"{model_type}_time\"]+\" \"+param_df[f\"{model_type}_bin\"]\n",
    "param_df=param_df.set_index(\"index_time_bin\")\n",
    "\n",
    "#param_df.to_csv(f\"{model_type}_predictions_on_test-data_with_time-bin.csv\")\n"
   ]
  },
  {
   "cell_type": "code",
   "execution_count": null,
   "id": "5ff4908f",
   "metadata": {
    "tags": []
   },
   "outputs": [],
   "source": [
    "len(param_pred)"
   ]
  },
  {
   "cell_type": "code",
   "execution_count": null,
   "id": "dbd5ee91",
   "metadata": {
    "tags": []
   },
   "outputs": [],
   "source": [
    "# load data (if you want load from .csv)\n",
    "# data = pd.read_csv(f'{model_type}_predictions_on_test-data_with_time-bin.csv')\n",
    "\n",
    "# or select data from param_df\n",
    "data = param_df\n",
    "\n",
    "data[f\"{model_type}_time\"] = pd.to_datetime(data[f\"{model_type}_time\"])\n",
    "data"
   ]
  },
  {
   "cell_type": "markdown",
   "id": "4a07ab56",
   "metadata": {},
   "source": [
    "### Coefficient of variation"
   ]
  },
  {
   "cell_type": "code",
   "execution_count": null,
   "id": "6103db9d",
   "metadata": {
    "tags": []
   },
   "outputs": [],
   "source": [
    "global_mean = data[f\"{model_type}_test\"].mean()\n",
    "global_mean"
   ]
  },
  {
   "cell_type": "code",
   "execution_count": null,
   "id": "3c0686ff",
   "metadata": {
    "scrolled": true,
    "tags": []
   },
   "outputs": [],
   "source": [
    "n = len(data)\n",
    "pred_std=[]\n",
    "test_std=[]\n",
    "window_size_cov=[]\n",
    "\n",
    "# create windows for CoV calculation\n",
    "for i in range(n):\n",
    "    subset = data[max(0,i-22):min(i+22+1, n)]\n",
    "    subset = subset[subset[f\"{model_type}_bin\"]==data[f\"{model_type}_bin\"][i]]\n",
    "    subset = subset[subset[f\"{model_type}_time\"] <= data[f\"{model_type}_time\"][i] + datetime.timedelta(minutes=22)]\n",
    "    subset = subset[subset[f\"{model_type}_time\"] >= data[f\"{model_type}_time\"][i] - datetime.timedelta(minutes=22)]\n",
    "    pred_std.append(subset[f\"{model_type}_pred\"].std())\n",
    "    test_std.append(subset[f\"{model_type}_test\"].std())\n",
    "    window_size_cov.append(len(subset))\n",
    "    if i%10000 == 0: # control the speed of calculations\n",
    "        print(i)"
   ]
  },
  {
   "cell_type": "code",
   "execution_count": null,
   "id": "13934520",
   "metadata": {
    "tags": []
   },
   "outputs": [],
   "source": [
    "data[f\"{model_type}_std_pred\"] = pred_std\n",
    "data[f\"{model_type}_std_test\"] = test_std\n",
    "\n",
    "# calculate CoV\n",
    "data[f\"{model_type}_cov_pred\"] = data[f\"{model_type}_std_pred\"]/global_mean\n",
    "data[f\"{model_type}_cov_test\"] = data[f\"{model_type}_std_test\"]/global_mean\n",
    "\n",
    "# if you want to save size of CoV windows\n",
    "# data[f\"{model_type}_count_for_cov\"] = window_size_cov"
   ]
  },
  {
   "cell_type": "code",
   "execution_count": null,
   "id": "acece265",
   "metadata": {
    "tags": []
   },
   "outputs": [],
   "source": [
    "# save data\n",
    "data.to_csv(f'{model_type2}/{model_type}_predictions_on_test-data_with_time-bin_std-cov_full-test.csv')"
   ]
  },
  {
   "cell_type": "code",
   "execution_count": null,
   "id": "01a145df",
   "metadata": {
    "tags": []
   },
   "outputs": [],
   "source": [
    "data"
   ]
  },
  {
   "cell_type": "code",
   "execution_count": null,
   "id": "ee5e8e1a",
   "metadata": {},
   "outputs": [],
   "source": []
  }
 ],
 "metadata": {
  "kernelspec": {
   "display_name": "Python 3 (ipykernel)",
   "language": "python",
   "name": "python3"
  },
  "language_info": {
   "codemirror_mode": {
    "name": "ipython",
    "version": 3
   },
   "file_extension": ".py",
   "mimetype": "text/x-python",
   "name": "python",
   "nbconvert_exporter": "python",
   "pygments_lexer": "ipython3",
   "version": "3.7.12"
  }
 },
 "nbformat": 4,
 "nbformat_minor": 5
}
