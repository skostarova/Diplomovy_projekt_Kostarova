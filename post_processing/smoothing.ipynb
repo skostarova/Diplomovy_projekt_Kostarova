{
 "cells": [
  {
   "cell_type": "code",
   "execution_count": null,
   "metadata": {},
   "outputs": [],
   "source": [
    "# import\n",
    "import pandas as pd\n",
    "import numpy as np\n",
    "\n",
    "import matplotlib.pyplot as plt\n",
    "\n",
    "import matplotlib.dates as mdates\n",
    "myFmt = mdates.DateFormatter('%d %b')\n",
    "myFmt2 = mdates.DateFormatter('%d %b \\n%H:%M')\n",
    "import datetime\n",
    "from scipy import signal"
   ]
  },
  {
   "cell_type": "code",
   "execution_count": null,
   "metadata": {},
   "outputs": [],
   "source": [
    "!pip install plotly"
   ]
  },
  {
   "cell_type": "markdown",
   "metadata": {
    "tags": []
   },
   "source": [
    "## Data loading"
   ]
  },
  {
   "cell_type": "code",
   "execution_count": null,
   "outputs": [],
   "source": [
    "# settings\n",
    "shift = 15\n",
    "window = 45\n",
    "model_type = \"autoreg15\" # for autoreg - autoreg{shift]; for multiNN - PC, AsyH, ap_index, BzGSE, all_parameters\n",
    "model_type2 = \"autoreg\" # for autoreg - autoreg; for multiNN - PC, AsyH, ap_index, BzGSE, all_parameters\n",
    "best_model = True # load best model (true) or model from epoch (false)\n",
    "epoch = \"\"\n",
    "mae = \"\""
   ],
   "metadata": {
    "collapsed": false
   }
  },
  {
   "cell_type": "code",
   "execution_count": null,
   "outputs": [],
   "source": [
    "# data loading\n",
    "size=1 # select subset (>1) or whole test_data (1)\n",
    "param_t = np.load(f\"../data/{model_type2}/shift-{shift}-windows-{window}/test_index_timestamp.npy\", allow_pickle = True).flatten()\n",
    "param_ytest = np.load(f\"../data/{model_type2}/shift-{shift}-windows-{window}/y_test.npy\", allow_pickle = True).flatten()\n",
    "param_bin = np.load(f\"../data/{model_type2}/shift-{shift}-windows-{window}/test_index_bin.npy\", allow_pickle = True).flatten()\n",
    "if best_model:\n",
    "    param_pred = np.load(f\"../prediction/y_pred-{model_type2}-shift-{shift}-windows-{window}.npy, allow_pickle = True\").flatten()\n",
    "else:\n",
    "    param_pred = np.load(f\"../prediction/{model_type2}/shift-{shift}-windows-{window}/y_pred_epoch-{epoch}-mae-{mae}.npy\", allow_pickle = True).flatten()\n",
    "\n",
    "# create dataframe\n",
    "param_df = pd.DataFrame(data={f\"{model_type}_test\": param_ytest[:int(len(param_ytest)/size)], f\"{model_type}_pred\": param_pred[:int(len(param_pred)/size)], f\"{model_type}_bin\":param_bin[:int(len(param_ytest)/size)], f\"{model_type}_time\":param_t[:int(len(param_ytest)/size)]})\n",
    "param_df[f\"{model_type}_bin\"] = param_df[f\"{model_type}_bin\"].str[:5]\n",
    "\n",
    "param_df[\"index_time_bin\"]=param_df[f\"{model_type}_time\"]+\" \"+param_df[f\"{model_type}_bin\"]\n",
    "param_df=param_df.set_index(\"index_time_bin\")"
   ],
   "metadata": {
    "collapsed": false
   }
  },
  {
   "cell_type": "code",
   "execution_count": null,
   "metadata": {},
   "outputs": [],
   "source": [
    "# create scinti_df\n",
    "scinti_df = param_df\n",
    "scinti_df = scinti_df.set_index(pd.to_datetime(scinti_df[f\"{model_type}_time\"]))\n",
    "\n",
    "scinti_df['persistence_shift_time'] = scinti_df.index - datetime.timedelta(minutes=shift)\n",
    "scinti_df['persistence_shift_time'] = scinti_df['persistence_shift_time'].astype(str)\n",
    "scinti_df['persistence_shift_time'] = scinti_df['persistence_shift_time']+\" \"+scinti_df[f'{model_type}_bin'].astype(str)\n",
    "\n",
    "mapping_true = dict(scinti_df[['index_time_bin', f\"{model_type}_test\"]].values)\n",
    "scinti_df['persistence'] = scinti_df[\"persistence_shift_time\"].map(mapping_true)\n",
    "\n",
    "scinti_df[\"persistance_true\"]=np.where(scinti_df[f\"{model_type}_test\"] >= 0.1, 1, 0)\n",
    "scinti_df[\"persistance_pred\"]=np.where(scinti_df[\"persistence\"] >= 0.1, 1, 0)\n",
    "\n",
    "scinti_df"
   ]
  },
  {
   "cell_type": "code",
   "execution_count": null,
   "metadata": {},
   "outputs": [],
   "source": [
    "# select bin\n",
    "scinti_df=scinti_df[scinti_df[f\"{model_type}_bin\"] == 13725]\n",
    "scinti_df = scinti_df.set_index(pd.to_datetime(scinti_df.index))"
   ]
  },
  {
   "cell_type": "code",
   "execution_count": null,
   "metadata": {
    "scrolled": true,
    "tags": []
   },
   "outputs": [],
   "source": [
    "# visualization of true and predicted values\n",
    "\n",
    "scinti_df = scinti_df.set_index(pd.to_datetime(scinti_df[f\"{model_type}_time\"]))\n",
    "\n",
    "plt.rcParams[\"figure.figsize\"] = (10,5)\n",
    "for i in range(0, 53,1):  \n",
    "    # can change start time in \"xlim\"\n",
    "    plt.xlim(pd.Timestamp('2019-01-24 4:00:00')+datetime.timedelta(days=i*2), pd.Timestamp('2019-01-24 4:00:00')+datetime.timedelta(days=i*2+2))\n",
    "    plt.scatter(scinti_df.index, scinti_df[f'{model_type}_test'], s=0.8, c=\"lime\", label=\"True Phi60_Sig1\")\n",
    "    plt.scatter(scinti_df.index, scinti_df[f'{model_type}_pred'], s=0.1, c=\"dodgerblue\", label=\"Predicted Phi60_Sig1\")\n",
    "\n",
    "    plt.ylabel(r'$\\sigma_\\phi [rad]$', fontsize=12)\n",
    "    plt.xlabel(\"Time\")\n",
    "    plt.axhline(0.1, color='silver', linewidth=2)\n",
    "    plt.grid(True, linewidth=0.3)\n",
    "    lgnd=plt.legend()\n",
    "    lgnd.legend_handles[0].set_sizes([10])\n",
    "    lgnd.legend_handles[1].set_sizes([10])\n",
    "    plt.ylim(0, 0.5)\n",
    "    plt.gca().xaxis.set_major_formatter(myFmt2)\n",
    "    plt.show()"
   ]
  },
  {
   "cell_type": "code",
   "execution_count": null,
   "metadata": {},
   "outputs": [],
   "source": [
    "# Savitzky-golay filter\n",
    "# predicted values\n",
    "scinti_df[\"sav_gol\"] = signal.savgol_filter(scinti_df[\"autoreg_15_pred\"], window_length=15, polyorder=0, mode=\"wrap\")\n",
    "# true values\n",
    "scinti_df[\"sav_gol_true\"] = signal.savgol_filter(scinti_df[\"autoreg_15_test\"], window_length=60, polyorder=0, mode=\"wrap\")"
   ]
  },
  {
   "cell_type": "code",
   "execution_count": null,
   "metadata": {},
   "outputs": [],
   "source": [
    "# Convolution filter with Hann window\n",
    "win = signal.windows.hann(60)\n",
    "# predicted values\n",
    "scinti_df[\"scipy_conv\"] = signal.convolve(scinti_df[\"autoreg_15_pred\"], win, mode='same') / sum(win)\n",
    "# true values\n",
    "scinti_df[\"scipy_conv_true\"] = signal.convolve(scinti_df[\"autoreg_15_test\"], win, mode='same') / sum(win)"
   ]
  },
  {
   "cell_type": "code",
   "execution_count": null,
   "metadata": {},
   "outputs": [],
   "source": [
    "# Kaiser window function\n",
    "beta = [2,4,16,32]\n",
    "def smooth(x,beta):\n",
    "    \"\"\" kaiser window smoothing \"\"\"\n",
    "    window_len=31\n",
    " # extending the data at beginning and at the end\n",
    " # to apply the window at the borders\n",
    "    s = np.r_[x[window_len-1:0:-1],x,x[-1:-window_len:-1]]\n",
    "    w = np.kaiser(window_len,beta)\n",
    "    y = np.convolve(w/w.sum(),s,mode='valid')\n",
    "    return y[15:len(y)-15]"
   ]
  },
  {
   "cell_type": "code",
   "execution_count": null,
   "metadata": {},
   "outputs": [],
   "source": [
    "# Kaiser window\n",
    "# true values\n",
    "scinti_df[\"kaiser_true\"] = smooth(scinti_df.autoreg_15_test,1) \n",
    "# predicted_values\n",
    "scinti_df[\"kaiser\"] = smooth(scinti_df.autoreg_15_pred,1) "
   ]
  },
  {
   "cell_type": "code",
   "execution_count": null,
   "metadata": {
    "scrolled": true,
    "tags": []
   },
   "outputs": [],
   "source": [
    "plt.rcParams[\"figure.figsize\"] = (10,5)\n",
    "for i in range(0, 53,1):  \n",
    "    plt.xlim(pd.Timestamp('2019-01-24 4:00:00')+datetime.timedelta(days=i*1), pd.Timestamp('2019-01-24 4:00:00')+datetime.timedelta(days=i*1+1))\n",
    "    plt.scatter(scinti_df.index, scinti_df[f'{model_type}_test'], s=1, c=\"black\", label=\"True Phi60_Sig1\")\n",
    "    plt.scatter(scinti_df.index, scinti_df[f'sav_gol_true'], s=1, c=\"orange\", label=\"Savitzky-Golay filter (45)\")\n",
    "    plt.scatter(scinti_df.index, scinti_df[f'scipy_conv_true'], s=1, c=\"mediumvioletred\", label=\"Convolution Hann window (60)\")\n",
    "    plt.scatter(scinti_df.index, scinti_df[f'kaiser_true'], s=1, c=\"deepskyblue\", label=\"Kaiser window smothing (30)\")\n",
    "   \n",
    "    plt.ylabel(r'$\\sigma_\\phi [rad]$', fontsize=12)\n",
    "    plt.xlabel(\"Time\", fontsize=12)\n",
    "    plt.axhline(0.1, color='silver', linewidth=2)\n",
    "    plt.grid(True, linewidth=0.3)\n",
    "    lgnd=plt.legend()\n",
    "    lgnd.legend_handles[0].set_sizes([10])\n",
    "    lgnd.legend_handles[1].set_sizes([10])\n",
    "    lgnd.legend_handles[2].set_sizes([10])\n",
    "    lgnd.legend_handles[3].set_sizes([10])\n",
    "    plt.ylim(0, 0.3)\n",
    "    plt.gca().xaxis.set_major_formatter(myFmt2)\n",
    "    plt.show()\n"
   ]
  },
  {
   "cell_type": "code",
   "execution_count": null,
   "metadata": {},
   "outputs": [],
   "source": []
  }
 ],
 "metadata": {
  "kernelspec": {
   "display_name": "Python 3 (ipykernel)",
   "language": "python",
   "name": "python3"
  },
  "language_info": {
   "codemirror_mode": {
    "name": "ipython",
    "version": 3
   },
   "file_extension": ".py",
   "mimetype": "text/x-python",
   "name": "python",
   "nbconvert_exporter": "python",
   "pygments_lexer": "ipython3",
   "version": "3.10.6"
  }
 },
 "nbformat": 4,
 "nbformat_minor": 4
}
