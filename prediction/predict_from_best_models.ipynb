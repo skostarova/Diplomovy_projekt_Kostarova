{
 "cells": [
  {
   "cell_type": "code",
   "execution_count": null,
   "metadata": {
    "collapsed": true
   },
   "outputs": [],
   "source": [
    "# import\n",
    "import numpy as np\n",
    "import keras"
   ]
  },
  {
   "cell_type": "code",
   "execution_count": null,
   "outputs": [],
   "source": [
    "# settings\n",
    "model_name = \"PC\"\n",
    "shift = 15\n",
    "windows = 45"
   ],
   "metadata": {
    "collapsed": false
   }
  },
  {
   "cell_type": "code",
   "execution_count": null,
   "outputs": [],
   "source": [
    "# data and model loading\n",
    "X_test_min = np.load(f\"../data/{model_name}/shift-{shift}-windows-{windows}/X_test_min.npy\")\n",
    "X_test_hour = np.load(f\"../data/{model_name}/shift-{shift}-windows-{windows}/X_test_hour.npy\")\n",
    "y_test = np.load(f\"../data/{model_name}/shift-{shift}-windows-{windows}/y_test.npy\")\n",
    "model = keras.models.load_model(f\"../model/{model_name}-shift-{shift}-windows-{windows}.hdf5\")"
   ],
   "metadata": {
    "collapsed": false
   }
  },
  {
   "cell_type": "code",
   "execution_count": null,
   "outputs": [],
   "source": [
    "# prediction from test_data\n",
    "\n",
    "Phi60_Sig1 = X_test_min[\"Phi60_Sig1\"]\n",
    "\n",
    "if model_name == \"ap_index\":\n",
    "    param = X_test_hour[\"ap_index\"]\n",
    "    y_pred = model.predict([param, Phi60_Sig1])\n",
    "elif model_name == \"all_parameters\":\n",
    "    ap_index = X_test_hour[\"ap_index\"]\n",
    "    PC = X_test_min[\"PC\"]\n",
    "    AsyH = X_test_min[\"AsyH\"]\n",
    "    BzGSE = X_test_min[\"BzGSE\"]\n",
    "    y_pred = model.predict([ap_index, BzGSE, AsyH, PC, Phi60_Sig1])\n",
    "elif \"autoreg\" not in model_name:\n",
    "    param = X_test_min[model_name]\n",
    "    y_pred = model.predict([param, Phi60_Sig1])\n",
    "else:\n",
    "    y_pred = model.predict(Phi60_Sig1, verbose = 1)"
   ],
   "metadata": {
    "collapsed": false
   }
  },
  {
   "cell_type": "code",
   "execution_count": null,
   "outputs": [],
   "source": [
    "# save prediction\n",
    "np.save(f'y_pred_{model_name}-shift-{shift}-windows-{windows}.npy', y_pred)"
   ],
   "metadata": {
    "collapsed": false
   }
  }
 ],
 "metadata": {
  "kernelspec": {
   "display_name": "Python 3",
   "language": "python",
   "name": "python3"
  },
  "language_info": {
   "codemirror_mode": {
    "name": "ipython",
    "version": 2
   },
   "file_extension": ".py",
   "mimetype": "text/x-python",
   "name": "python",
   "nbconvert_exporter": "python",
   "pygments_lexer": "ipython2",
   "version": "2.7.6"
  }
 },
 "nbformat": 4,
 "nbformat_minor": 0
}
