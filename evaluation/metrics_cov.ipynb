{
 "cells": [
  {
   "cell_type": "code",
   "execution_count": null,
   "id": "598b6f9f-d93d-48d8-85a5-c7033e9f50ca",
   "metadata": {},
   "outputs": [],
   "source": [
    "# import\n",
    "import pandas as pd\n",
    "import numpy as np\n",
    "from sklearn.metrics import confusion_matrix\n",
    "import matplotlib.pyplot as plt"
   ]
  },
  {
   "cell_type": "code",
   "execution_count": null,
   "id": "ccce66dc-e740-470d-be11-ed67b4d3e0bd",
   "metadata": {},
   "outputs": [],
   "source": [
    "# create function for evaluation\n",
    "def metrics(true, pred):\n",
    "    #true = true.dropna()\n",
    "    #pred = pred.dropna()\n",
    "    \n",
    "    cm = confusion_matrix(true, pred, labels=[0,1])\n",
    "    print(cm)\n",
    "    tn = cm[0][0]\n",
    "    fp = cm[0][1]\n",
    "    fn = cm[1][0]\n",
    "    tp = cm[1][1]\n",
    "\n",
    "    precision = float(tp/(tp+fp)) \n",
    "    recall = float(tp/(tp+fn))  \n",
    "    f1 = float((2*precision*recall)/(precision+recall))\n",
    "    tss = float((tp/(tp+fn)) - (fp/(fp+tn)))\n",
    "    \n",
    "    return precision, recall, f1, tss, tn, fp, fn, tp"
   ]
  },
  {
   "cell_type": "code",
   "execution_count": null,
   "id": "99bed430-377b-428d-9785-5d7c9fd7cdc1",
   "metadata": {},
   "outputs": [],
   "source": [
    "# settings - model\n",
    "model_type = \"autoreg60\""
   ]
  },
  {
   "cell_type": "code",
   "execution_count": null,
   "id": "58c2a68b-bd87-45b9-b408-a78abafa4621",
   "metadata": {},
   "outputs": [],
   "source": [
    "# settings - CoV\n",
    "var_coef_true_values = [0.5]\n",
    "if \"autoreg\" in model_type:\n",
    "    var_coef_pred_values = np.arange(0.001,0.0201, 0.0001) # for autoreg model\n",
    "    x_axis = np.arange(0.000,0.0201,0.002)\n",
    "else:\n",
    "    var_coef_pred_values = np.arange(0.01,0.201, 0.001) # for multiNN model\n",
    "    x_axis = np.arange(0.00,0.201, 0.02)"
   ]
  },
  {
   "cell_type": "code",
   "execution_count": null,
   "id": "daa2d826-ba99-4290-83b4-a603156e632e",
   "metadata": {},
   "outputs": [],
   "source": [
    "# data loading\n",
    "df = pd.read_csv(f\"post_processing/{model_type}_predictions_on_test-data_with_time-bin_std-cov_full-test.csv\")\n",
    "df"
   ]
  },
  {
   "cell_type": "code",
   "execution_count": null,
   "id": "bda2b742-6a09-41cb-92e5-250b9283746a",
   "metadata": {
    "scrolled": true,
    "tags": []
   },
   "outputs": [],
   "source": [
    "# evaluate\n",
    "results = pd.DataFrame(columns=[\"cov_true\", \"cov_test\", \"precision\", \"recall\", \"f1\", \"tss\", \"tn\", \"fp\", \"fn\", \"tp\"])\n",
    "for vc_true in var_coef_true_values:\n",
    "    df[\"True\"] = np.where(df[f\"{model_type}_cov_test\"] < vc_true, 0, 1)\n",
    "    for vc_pred in var_coef_pred_values:\n",
    "        df[\"Pred\"] = np.where(df[f\"{model_type}_cov_pred\"] < vc_pred, 0, 1)\n",
    "        \n",
    "        true_col = 'True'\n",
    "        pred_col = 'Pred'\n",
    "        \n",
    "        # vyhodnotenie metrik\n",
    "        print(\"Vyhodnotenie pre hodnoty variačných koeficientov: pred %g, true %3.1f \\n\" %(vc_pred, vc_true))\n",
    "        res = metrics(df[true_col], df[pred_col])\n",
    "        results.loc[len(results)] = [vc_true, vc_pred, res[0], res[1], res[2], res[3], res[4], res[5], res[6], res[7]]"
   ]
  },
  {
   "cell_type": "code",
   "execution_count": null,
   "id": "8e040929-1d0f-4f40-ac94-054b7f140696",
   "metadata": {},
   "outputs": [],
   "source": [
    "results"
   ]
  },
  {
   "cell_type": "code",
   "execution_count": null,
   "id": "bc10428c-691c-49d8-b6a1-010993799ca3",
   "metadata": {},
   "outputs": [],
   "source": [
    "# save results\n",
    "results.to_csv(f\"evaluation/{model_type}.csv\")"
   ]
  },
  {
   "cell_type": "code",
   "execution_count": null,
   "id": "47c699f0-d296-4b72-829d-2287239575bc",
   "metadata": {},
   "outputs": [],
   "source": [
    "# plot results\n",
    "plt.figure(figsize=(8,4))\n",
    "plt.scatter(results[\"cov_test\"], results[\"precision\"],s=1,label=\"precision\")\n",
    "plt.scatter(results[\"cov_test\"], results[\"recall\"],s=1,label=\"recall\")\n",
    "plt.scatter(results[\"cov_test\"], results[\"tss\"],s=1,label=\"TSS\")\n",
    "plt.xlabel(\"Coefficient of variation - predicted values\", fontsize=13)\n",
    "plt.ylabel(\"Metric value\", fontsize=13)\n",
    "plt.title(f\"Metrics for different CoV of prediction settings, {model_type} model\", fontsize=14)\n",
    "plt.legend(markerscale=3)\n",
    "plt.grid()\n",
    "plt.tight_layout()\n",
    "plt.xticks(x_axis, size=10)\n",
    "plt.savefig(f\"evaluation/{model_type}.png\")\n",
    "plt.show()"
   ]
  },
  {
   "cell_type": "code",
   "execution_count": null,
   "id": "7ef35d02-e5ac-40d2-bfa4-e7c59b0fe11f",
   "metadata": {},
   "outputs": [],
   "source": []
  }
 ],
 "metadata": {
  "kernelspec": {
   "display_name": "Python 3 (ipykernel)",
   "language": "python",
   "name": "python3"
  },
  "language_info": {
   "codemirror_mode": {
    "name": "ipython",
    "version": 3
   },
   "file_extension": ".py",
   "mimetype": "text/x-python",
   "name": "python",
   "nbconvert_exporter": "python",
   "pygments_lexer": "ipython3",
   "version": "3.10.6"
  }
 },
 "nbformat": 4,
 "nbformat_minor": 5
}
