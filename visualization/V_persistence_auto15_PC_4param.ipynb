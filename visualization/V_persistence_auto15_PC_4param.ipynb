{
 "cells": [
  {
   "cell_type": "code",
   "execution_count": null,
   "metadata": {},
   "outputs": [],
   "source": [
    "# import\n",
    "import pandas as pd\n",
    "import numpy as np\n",
    "\n",
    "from sklearn.metrics import confusion_matrix\n",
    "import matplotlib.pyplot as plt\n",
    "\n",
    "from matplotlib.lines import Line2D\n",
    "import matplotlib.dates as mdates\n",
    "myFmt = mdates.DateFormatter('%d %b')\n",
    "import datetime"
   ]
  },
  {
   "cell_type": "code",
   "execution_count": null,
   "metadata": {},
   "outputs": [],
   "source": [
    "!pip install plotly"
   ]
  },
  {
   "cell_type": "code",
   "execution_count": null,
   "metadata": {},
   "outputs": [],
   "source": [
    "# create function for metrics and visualization\n",
    "def metrics(true, pred):\n",
    "    cm = confusion_matrix(true, pred)\n",
    "    tn = cm[0][0]\n",
    "    fp = cm[0][1]\n",
    "    fn = cm[1][0]\n",
    "    tp = cm[1][1]\n",
    "\n",
    "    precision = float(tp/(tp+fp)) \n",
    "    recall = float(tp/(tp+fn))  \n",
    "    f1 = float((2*precision*recall)/(precision+recall))\n",
    "    tss = float((tp/(tp+fn)) - (fp/(fp+tn)))\n",
    "    \n",
    "    return precision, recall, f1, tss, tn, fp, fn, tp\n",
    "\n",
    "def create_conditions(true, pred):\n",
    "    return [(true == 1) & (pred == 1),\n",
    "     (true == 0) & (pred == 0),\n",
    "     (true == 1) & (pred == 0),\n",
    "     (true == 0) & (pred == 1)]\n",
    "\n",
    "def add_text_plot():\n",
    "    legend_elements = [Line2D([0], [0], marker='o', color='w', label='TN', markerfacecolor=\"#1f77b4\", markersize=6),\n",
    "                       Line2D([0], [0], marker='o', color='w', label='FP', markerfacecolor='#ff7f0e', markersize=6),\n",
    "                       Line2D([0], [0], marker='o', color='w', label='TP', markerfacecolor='#2ca02c', markersize=6),\n",
    "                       Line2D([0], [0], marker='o', color='w', label='FN', markerfacecolor='#d62728', markersize=6)]\n",
    "    plt.legend(handles=legend_elements, loc='upper right')\n",
    "    plt.ylabel(r'$\\sigma_\\phi [rad]$', fontsize=12)\n",
    "    plt.axhline(0.1, color='silver', linewidth=2)\n",
    "    plt.grid(True, linewidth=0.3)\n",
    "    plt.ylim(0, 1)\n",
    "    plt.gca().xaxis.set_major_formatter(myFmt)"
   ]
  },
  {
   "cell_type": "markdown",
   "source": [
    "## Data loading"
   ],
   "metadata": {
    "collapsed": false
   }
  },
  {
   "cell_type": "code",
   "execution_count": null,
   "outputs": [],
   "source": [
    "autoreg_15_df = pd.read_csv(\"post_processing/autoreg15_predictions_on_test-data_with_time-bin_std-cov_full-test.csv\").set_index(\"index_time_bin\")\n",
    "PC_df = pd.read_csv(\"post_processing/PC_predictions_on_test-data_with_time-bin_std-cov_full-test.csv\").set_index(\"index_time_bin\")\n",
    "all_parameters_df = pd.read_csv(\"post_processing/all_parameters_predictions_on_test-data_with_time-bin_std-cov_full-test.csv\").set_index(\"index_time_bin\")"
   ],
   "metadata": {
    "collapsed": false
   }
  },
  {
   "cell_type": "code",
   "execution_count": null,
   "outputs": [],
   "source": [
    "# create intersection\n",
    "models_dfs = pd.concat([autoreg_15_df, PC_df, all_parameters_df], axis=1)\n",
    "models_dfs = models_dfs.dropna()\n",
    "models_dfs = models_dfs.rename(columns={\"autoreg_15_test\": \"y_test\", \"autoreg_15_time\": \"time_index\",\n",
    "                                          \"autoreg_15_bin\": \"bin_index\"})\n",
    "models_dfs = models_dfs[[\"time_index\", \"bin_index\", \"y_test\",\n",
    "                         \"autoreg_15_pred\", \"autoreg_15_cov_pred\", \"autoreg_15_cov_test\",\n",
    "                           \"PC_pred\", \"PC_cov_pred\", \"PC_cov_test\",\n",
    "                           \"all_parameters_pred\", \"all_parameters_cov_pred\", \"all_parameters_cov_test\"]]\n",
    "models_dfs"
   ],
   "metadata": {
    "collapsed": false
   }
  },
  {
   "cell_type": "code",
   "execution_count": null,
   "outputs": [],
   "source": [
    "# create persistence prediction\n",
    "models_dfs['persistence_shift_time'] = pd.to_datetime(models_dfs.time_index) - datetime.timedelta(minutes=15)\n",
    "models_dfs['persistence_shift_time'] = models_dfs['persistence_shift_time'].astype(str)\n",
    "models_dfs['persistence_shift_time'] = models_dfs['persistence_shift_time']+\" \"+models_dfs[\"bin_index\"].astype(str)\n",
    "models_dfs"
   ],
   "metadata": {
    "collapsed": false
   }
  },
  {
   "cell_type": "code",
   "execution_count": null,
   "outputs": [],
   "source": [
    "models_dfs['index_time_bin'] = models_dfs.index\n",
    "mapping_true = dict(models_dfs[['index_time_bin', \"y_test\"]].values)\n",
    "models_dfs['persistence'] = models_dfs[\"persistence_shift_time\"].map(mapping_true)\n",
    "models_dfs"
   ],
   "metadata": {
    "collapsed": false
   }
  },
  {
   "cell_type": "code",
   "execution_count": null,
   "outputs": [],
   "source": [
    "models_dfs[\"persistance_true\"]=np.where(models_dfs[\"y_test\"] >= 0.1, 1, 0)\n",
    "models_dfs[\"persistance_pred\"]=np.where(models_dfs[\"persistence\"] >= 0.1, 1, 0)"
   ],
   "metadata": {
    "collapsed": false
   }
  },
  {
   "cell_type": "code",
   "execution_count": null,
   "metadata": {},
   "outputs": [],
   "source": [
    "#autoreg15\n",
    "varcoef_true_set1 = 0.5\n",
    "varcoef_pred_set1 = 0.01\n",
    "#PC\n",
    "varcoef_true_set2 = 0.5\n",
    "varcoef_pred_set2 = 0.1\n",
    "#all_parameters\n",
    "varcoef_true_set3 = 0.5\n",
    "varcoef_pred_set3 = 0.05\n"
   ]
  },
  {
   "cell_type": "code",
   "execution_count": null,
   "metadata": {},
   "outputs": [],
   "source": [
    "# select bin\n",
    "scinti_df = models_dfs[models_dfs[\"bin_index\"]==13502].copy()\n",
    "scinti_df = scinti_df.set_index(pd.to_datetime(scinti_df[\"time_index\"]))"
   ]
  },
  {
   "cell_type": "code",
   "execution_count": null,
   "metadata": {},
   "outputs": [],
   "source": [
    "plt.rcParams[\"figure.figsize\"] = (10,10)\n",
    "\n",
    "scinti_df[\"True_set1\"] = np.where(scinti_df[\"autoreg_15_cov_test\"] < varcoef_true_set1, 0, 1)\n",
    "scinti_df[\"True_set2\"] = np.where(scinti_df[\"PC_cov_test\"] < varcoef_true_set2, 0, 1)\n",
    "scinti_df[\"True_set3\"] = np.where(scinti_df[\"all_parameters_cov_test\"] < varcoef_true_set3, 0, 1)\n",
    "scinti_df[\"True_set4\"] = scinti_df[\"persistance_true\"]\n",
    "\n",
    "scinti_df[\"Pred_set1\"] = np.where(scinti_df[\"autoreg_15_cov_pred\"] < varcoef_pred_set1, 0, 1)\n",
    "scinti_df[\"Pred_set2\"] = np.where(scinti_df[\"PC_cov_pred\"] < varcoef_pred_set2, 0, 1)\n",
    "scinti_df[\"Pred_set3\"] = np.where(scinti_df[\"all_parameters_cov_pred\"] < varcoef_pred_set3, 0, 1)\n",
    "scinti_df[\"Pred_set4\"] = scinti_df[\"persistance_pred\"]\n",
    "\n",
    "values = [3, 1, 4, 2]\n",
    "\n",
    "conditions_1 = create_conditions(scinti_df['True_set1'], scinti_df['Pred_set1'])\n",
    "scinti_df['e1_cm_color'] = np.select(conditions_1, values)\n",
    "conditions_2 = create_conditions(scinti_df['True_set2'], scinti_df['Pred_set2'])\n",
    "scinti_df['e2_cm_color'] = np.select(conditions_2, values)\n",
    "conditions_3 = create_conditions(scinti_df['True_set3'], scinti_df['Pred_set3'])\n",
    "scinti_df['e3_cm_color'] = np.select(conditions_3, values)\n",
    "conditions_4 = create_conditions(scinti_df['True_set4'], scinti_df['Pred_set4'])\n",
    "scinti_df['e4_cm_color'] = np.select(conditions_4, values)\n",
    "\n",
    "precision1, recall1, f11, tss1, tn1, fp1, fn1, tp1 = metrics(scinti_df[\"True_set1\"], scinti_df[\"Pred_set1\"])\n",
    "precision2, recall2, f12, tss2, tn2, fp2, fn2, tp2 = metrics(scinti_df[\"True_set2\"], scinti_df[\"Pred_set2\"])\n",
    "precision3, recall3, f13, tss3, tn3, fp3, fn3, tp3 = metrics(scinti_df[\"True_set3\"], scinti_df[\"Pred_set3\"])\n",
    "precision4, recall4, f14, tss4, tn4, fp4, fn4, tp4 = metrics(scinti_df[\"True_set4\"], scinti_df[\"Pred_set4\"])\n",
    "\n",
    "size_of_marker=2.5\n",
    "\n",
    "\n",
    "ix=0\n",
    "part_df = scinti_df\n",
    "# plot persistence, autoreg15, PC, all_parameters predictions\n",
    "for i in range(0,52):  \n",
    "    fig, ax = plt.subplots(4,1)\n",
    "    plt.setp(ax, xlim=(pd.Timestamp('2019-01-01 00:00:00')+datetime.timedelta(days=i*7), pd.Timestamp('2019-01-01 00:00:00')+datetime.timedelta(days=i*7+7)))\n",
    "    plt.suptitle('Autoregressive models predictions, bin 13725', fontsize=14)\n",
    "\n",
    "    # set1\n",
    "    plt.subplot(4, 1, 1).set_title(\"Persistence\", fontsize=12)\n",
    "    scatter1=plt.scatter(part_df.index, part_df[\"y_test\"], s=size_of_marker, c=part_df['e4_cm_color'], cmap=\"tab10\", vmin=1, vmax=10)\n",
    "    add_text_plot()\n",
    "    \n",
    "    # set2\n",
    "    plt.subplot(4, 1, 2).set_title(\"Autoregressive\", fontsize=12)\n",
    "    scatter2=plt.scatter(part_df.index, part_df[\"y_test\"], s=size_of_marker, c=part_df['e1_cm_color'], cmap=\"tab10\", vmin=1, vmax=10)\n",
    "    add_text_plot()\n",
    "    \n",
    "    # set3\n",
    "    plt.subplot(4, 1, 3).set_title(\"Base Multivariate PC\", fontsize=12)\n",
    "    scatter3=plt.scatter(part_df.index, part_df[\"y_test\"], s=size_of_marker, c=part_df['e2_cm_color'], cmap=\"tab10\", vmin=1, vmax=10)\n",
    "    add_text_plot()\n",
    "    \n",
    "    # set4\n",
    "    plt.subplot(4, 1, 4).set_title(\"Extended Multivariate Ap, Asy/H, Bz, PC\", fontsize=12)\n",
    "    scatter4=plt.scatter(part_df.index, part_df[\"y_test\"], s=size_of_marker, c=part_df['e3_cm_color'], cmap=\"tab10\", vmin=1, vmax=10)\n",
    "    add_text_plot()\n",
    "    \n",
    "    plt.subplots_adjust(left=0.1,\n",
    "                    bottom=0.1,\n",
    "                    right=0.9,\n",
    "                    top=0.9,\n",
    "                    wspace=0.4,\n",
    "                    hspace=0.4)\n",
    "    #plt.tight_layout()\n",
    "    #plt.savefig(f\"img/30_v2/img{ix}.png\")\n",
    "    plt.show()\n",
    "    \n",
    "    ix=ix+1"
   ]
  },
  {
   "cell_type": "code",
   "execution_count": null,
   "metadata": {},
   "outputs": [],
   "source": []
  }
 ],
 "metadata": {
  "kernelspec": {
   "display_name": "Python 3 (ipykernel)",
   "language": "python",
   "name": "python3"
  },
  "language_info": {
   "codemirror_mode": {
    "name": "ipython",
    "version": 3
   },
   "file_extension": ".py",
   "mimetype": "text/x-python",
   "name": "python",
   "nbconvert_exporter": "python",
   "pygments_lexer": "ipython3",
   "version": "3.10.6"
  }
 },
 "nbformat": 4,
 "nbformat_minor": 4
}
