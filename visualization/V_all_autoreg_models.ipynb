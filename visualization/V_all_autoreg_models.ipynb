{
 "cells": [
  {
   "cell_type": "code",
   "execution_count": null,
   "metadata": {},
   "outputs": [],
   "source": [
    "# import\n",
    "import pandas as pd\n",
    "import numpy as np\n",
    "\n",
    "from sklearn.metrics import confusion_matrix\n",
    "import matplotlib.pyplot as plt\n",
    "\n",
    "from matplotlib.lines import Line2D\n",
    "import matplotlib.dates as mdates\n",
    "myFmt = mdates.DateFormatter('%d %b')\n",
    "import datetime"
   ]
  },
  {
   "cell_type": "markdown",
   "metadata": {
    "tags": []
   },
   "source": [
    "## Data loading"
   ]
  },
  {
   "cell_type": "code",
   "execution_count": null,
   "metadata": {},
   "outputs": [],
   "source": [
    "autoreg_15_df = pd.read_csv(\"post_processing/autoreg15_predictions_on_test-data_with_time-bin_std-cov_full-test.csv\").set_index(\"index_time_bin\")\n",
    "autoreg_30_df = pd.read_csv(\"post_processing/autoreg30_predictions_on_test-data_with_time-bin_std-cov_full-test.csv\").set_index(\"index_time_bin\")\n",
    "autoreg_45_df = pd.read_csv(\"post_processing/autoreg45_predictions_on_test-data_with_time-bin_std-cov_full-test.csv\").set_index(\"index_time_bin\")\n",
    "autoreg_60_df = pd.read_csv(\"post_processing/autoreg60_predictions_on_test-data_with_time-bin_std-cov_full-test.csv\").set_index(\"index_time_bin\")"
   ]
  },
  {
   "cell_type": "code",
   "execution_count": null,
   "metadata": {},
   "outputs": [],
   "source": [
    "# create dataframe as intersection of all autoreg predictions\n",
    "autoreg_dfs = pd.concat([autoreg_15_df, autoreg_30_df, autoreg_45_df, autoreg_60_df], axis=1)\n",
    "autoreg_dfs = autoreg_dfs.dropna()\n",
    "autoreg_dfs = autoreg_dfs.rename(columns={\"autoreg_15_test\": \"y_test\", \"autoreg_15_time\": \"time_index\", \n",
    "                                          \"autoreg_15_bin\": \"bin_index\"})\n",
    "autoreg_dfs = autoreg_dfs[[\"time_index\", \"bin_index\", \"y_test\", \n",
    "                           \"autoreg_15_pred\", \"autoreg_15_cov_pred\", \"autoreg_15_cov_test\", \n",
    "                           \"autoreg_30_pred\", \"autoreg_30_cov_pred\", \"autoreg_30_cov_test\",\n",
    "                           \"autoreg_45_pred\", \"autoreg_45_cov_pred\", \"autoreg_45_cov_test\",\n",
    "                           \"autoreg_60_pred\", \"autoreg_60_cov_pred\", \"autoreg_60_cov_test\"]]\n",
    "autoreg_dfs"
   ]
  },
  {
   "cell_type": "code",
   "execution_count": null,
   "metadata": {},
   "outputs": [],
   "source": [
    "# create functions for metrics calculation and visualization\n",
    "def metrics(true, pred):\n",
    "    cm = confusion_matrix(true, pred)\n",
    "    tn = cm[0][0]\n",
    "    fp = cm[0][1]\n",
    "    fn = cm[1][0]\n",
    "    tp = cm[1][1]\n",
    "\n",
    "    precision = float(tp/(tp+fp)) \n",
    "    recall = float(tp/(tp+fn))  \n",
    "    f1 = float((2*precision*recall)/(precision+recall))\n",
    "    tss = float((tp/(tp+fn)) - (fp/(fp+tn)))\n",
    "    \n",
    "    return precision, recall, f1, tss, tn, fp, fn, tp\n",
    "\n",
    "def create_conditions(true, pred):\n",
    "    return [(true == 1) & (pred == 1),\n",
    "     (true == 0) & (pred == 0),\n",
    "     (true == 1) & (pred == 0),\n",
    "     (true == 0) & (pred == 1)]\n",
    "\n",
    "def add_text_plot():\n",
    "    legend_elements = [Line2D([0], [0], marker='o', color='w', label='TN', markerfacecolor=\"#1f77b4\", markersize=6),\n",
    "                       Line2D([0], [0], marker='o', color='w', label='FP', markerfacecolor='#ff7f0e', markersize=6),\n",
    "                       Line2D([0], [0], marker='o', color='w', label='TP', markerfacecolor='#2ca02c', markersize=6),\n",
    "                       Line2D([0], [0], marker='o', color='w', label='FN', markerfacecolor='#d62728', markersize=6)]\n",
    "    plt.legend(handles=legend_elements, loc='upper right')\n",
    "    plt.ylabel(r'$\\sigma_\\phi [rad]$', fontsize=12)\n",
    "    plt.axhline(0.1, color='silver', linewidth=2)\n",
    "    plt.grid(True, linewidth=0.3)\n",
    "    #plt.gca().patch.set_facecolor(\"beige\")\n",
    "    plt.ylim(0, 1)\n",
    "    plt.gca().xaxis.set_major_formatter(myFmt)"
   ]
  },
  {
   "cell_type": "code",
   "execution_count": null,
   "metadata": {},
   "outputs": [],
   "source": [
    "# settings of CoVs\n",
    "# shift 15\n",
    "varcoef_true_set1 = 0.5\n",
    "varcoef_pred_set1 = 0.01\n",
    "# shift 30\n",
    "varcoef_true_set2 = 0.5\n",
    "varcoef_pred_set2 = 0.02\n",
    "# shift 45\n",
    "varcoef_true_set3 = 0.5\n",
    "varcoef_pred_set3 = 0.01\n",
    "# shift 60\n",
    "varcoef_true_set4 = 0.5\n",
    "varcoef_pred_set4 = 0.01"
   ]
  },
  {
   "cell_type": "code",
   "execution_count": null,
   "metadata": {},
   "outputs": [],
   "source": [
    "# select bin\n",
    "scinti_df = autoreg_dfs[autoreg_dfs[\"bin_index\"]==13725].copy()\n",
    "scinti_df = scinti_df.set_index(pd.to_datetime(scinti_df[\"time_index\"]))"
   ]
  },
  {
   "cell_type": "code",
   "execution_count": null,
   "metadata": {},
   "outputs": [],
   "source": [
    "plt.rcParams[\"figure.figsize\"] = (10,10)\n",
    "\n",
    "scinti_df[\"True_set1\"] = np.where(scinti_df[\"autoreg_15_cov_test\"] < varcoef_true_set1, 0, 1)\n",
    "scinti_df[\"True_set2\"] = np.where(scinti_df[\"autoreg_30_cov_test\"] < varcoef_true_set2, 0, 1)\n",
    "scinti_df[\"True_set3\"] = np.where(scinti_df[\"autoreg_45_cov_test\"] < varcoef_true_set3, 0, 1)\n",
    "scinti_df[\"True_set4\"] = np.where(scinti_df[\"autoreg_60_cov_test\"] < varcoef_true_set4, 0, 1)\n",
    "\n",
    "scinti_df[\"Pred_set1\"] = np.where(scinti_df[\"autoreg_15_cov_pred\"] < varcoef_pred_set1, 0, 1)\n",
    "scinti_df[\"Pred_set2\"] = np.where(scinti_df[\"autoreg_30_cov_pred\"] < varcoef_pred_set2, 0, 1)\n",
    "scinti_df[\"Pred_set3\"] = np.where(scinti_df[\"autoreg_45_cov_pred\"] < varcoef_pred_set3, 0, 1)\n",
    "scinti_df[\"Pred_set4\"] = np.where(scinti_df[\"autoreg_60_cov_pred\"] < varcoef_pred_set4, 0, 1)\n",
    "\n",
    "values = [3, 1, 4, 2]\n",
    "\n",
    "conditions_1 = create_conditions(scinti_df['True_set1'], scinti_df['Pred_set1'])\n",
    "scinti_df['e1_cm_color'] = np.select(conditions_1, values)\n",
    "conditions_2 = create_conditions(scinti_df['True_set2'], scinti_df['Pred_set2'])\n",
    "scinti_df['e2_cm_color'] = np.select(conditions_2, values)\n",
    "conditions_3 = create_conditions(scinti_df['True_set3'], scinti_df['Pred_set3'])\n",
    "scinti_df['e3_cm_color'] = np.select(conditions_3, values)\n",
    "conditions_4 = create_conditions(scinti_df['True_set4'], scinti_df['Pred_set4'])\n",
    "scinti_df['e4_cm_color'] = np.select(conditions_4, values)\n",
    "\n",
    "precision1, recall1, f11, tss1, tn1, fp1, fn1, tp1 = metrics(scinti_df[\"True_set1\"], scinti_df[\"Pred_set1\"])\n",
    "precision2, recall2, f12, tss2, tn2, fp2, fn2, tp2 = metrics(scinti_df[\"True_set2\"], scinti_df[\"Pred_set2\"])\n",
    "precision3, recall3, f13, tss3, tn3, fp3, fn3, tp3 = metrics(scinti_df[\"True_set3\"], scinti_df[\"Pred_set3\"])\n",
    "precision4, recall4, f14, tss4, tn4, fp4, fn4, tp4 = metrics(scinti_df[\"True_set1\"], scinti_df[\"Pred_set1\"])\n",
    "\n",
    "size_of_marker=2.5\n",
    "\n",
    "ix=0\n",
    "part_df = scinti_df\n",
    "for i in range(0,4):  \n",
    "    fig, ax = plt.subplots(4,1)\n",
    "    plt.setp(ax, xlim=(pd.Timestamp('2019-05-26 00:00:00')+datetime.timedelta(days=i*7), pd.Timestamp('2019-05-26 00:00:00')+datetime.timedelta(days=i*7+7)))\n",
    "    plt.suptitle('Autoregressive models predictions, bin 13725', fontsize=14)\n",
    "\n",
    "    # set1\n",
    "    plt.subplot(4, 1, 1).set_title(\"model shift-15\", fontsize=12)\n",
    "    scatter1=plt.scatter(part_df.index, part_df[\"y_test\"], s=size_of_marker, c=part_df['e1_cm_color'], cmap=\"tab10\", vmin=1, vmax=10)\n",
    "    add_text_plot()\n",
    "    \n",
    "    # set2\n",
    "    plt.subplot(4, 1, 2).set_title(\"model shift-30\", fontsize=12)\n",
    "    scatter2=plt.scatter(part_df.index, part_df[\"y_test\"], s=size_of_marker, c=part_df['e2_cm_color'], cmap=\"tab10\", vmin=1, vmax=10)\n",
    "    add_text_plot()\n",
    "    \n",
    "    # set3\n",
    "    plt.subplot(4, 1, 3).set_title(\"model shift-45\", fontsize=12)\n",
    "    scatter3=plt.scatter(part_df.index, part_df[\"y_test\"], s=size_of_marker, c=part_df['e3_cm_color'], cmap=\"tab10\", vmin=1, vmax=10)\n",
    "    add_text_plot()\n",
    "    \n",
    "    # set4\n",
    "    plt.subplot(4, 1, 4).set_title(\"model shift-60\", fontsize=12)\n",
    "    scatter4=plt.scatter(part_df.index, part_df[\"y_test\"], s=size_of_marker, c=part_df['e4_cm_color'], cmap=\"tab10\", vmin=1, vmax=10)\n",
    "    add_text_plot()\n",
    "    \n",
    "    plt.subplots_adjust(left=0.1,\n",
    "                    bottom=0.1,\n",
    "                    right=0.9,\n",
    "                    top=0.9,\n",
    "                    wspace=0.4,\n",
    "                    hspace=0.4)\n",
    "    #plt.tight_layout()\n",
    "    #plt.savefig(f\"img/30_v2/img{ix}.png\")\n",
    "    plt.show()\n",
    "    \n",
    "    ix=ix+1"
   ]
  },
  
  {
   "cell_type": "code",
   "execution_count": null,
   "metadata": {},
   "outputs": [],
   "source": []
  }
 ],
 "metadata": {
  "kernelspec": {
   "display_name": "Python 3 (ipykernel)",
   "language": "python",
   "name": "python3"
  },
  "language_info": {
   "codemirror_mode": {
    "name": "ipython",
    "version": 3
   },
   "file_extension": ".py",
   "mimetype": "text/x-python",
   "name": "python",
   "nbconvert_exporter": "python",
   "pygments_lexer": "ipython3",
   "version": "3.10.6"
  }
 },
 "nbformat": 4,
 "nbformat_minor": 4
}
